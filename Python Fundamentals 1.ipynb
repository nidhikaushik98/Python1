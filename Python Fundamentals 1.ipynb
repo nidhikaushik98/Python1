{
 "cells": [
  {
   "cell_type": "markdown",
   "id": "c5566b78",
   "metadata": {},
   "source": [
    "\n",
    "### Fundamentals of python"
   ]
  },
  {
   "cell_type": "code",
   "execution_count": 1,
   "id": "53fedc2b",
   "metadata": {},
   "outputs": [
    {
     "data": {
      "text/plain": [
       "9"
      ]
     },
     "execution_count": 1,
     "metadata": {},
     "output_type": "execute_result"
    }
   ],
   "source": [
    "2+3+4"
   ]
  },
  {
   "cell_type": "code",
   "execution_count": 2,
   "id": "58ce0f16",
   "metadata": {},
   "outputs": [
    {
     "data": {
      "text/plain": [
       "1"
      ]
     },
     "execution_count": 2,
     "metadata": {},
     "output_type": "execute_result"
    }
   ],
   "source": [
    "100-99"
   ]
  },
  {
   "cell_type": "code",
   "execution_count": 3,
   "id": "1c96990a",
   "metadata": {},
   "outputs": [
    {
     "data": {
      "text/plain": [
       "20.0"
      ]
     },
     "execution_count": 3,
     "metadata": {},
     "output_type": "execute_result"
    }
   ],
   "source": [
    "100/5"
   ]
  },
  {
   "cell_type": "code",
   "execution_count": 4,
   "id": "90b4ca80",
   "metadata": {},
   "outputs": [
    {
     "data": {
      "text/plain": [
       "20"
      ]
     },
     "execution_count": 4,
     "metadata": {},
     "output_type": "execute_result"
    }
   ],
   "source": [
    "100//5"
   ]
  },
  {
   "cell_type": "code",
   "execution_count": 5,
   "id": "415f56c2",
   "metadata": {},
   "outputs": [
    {
     "data": {
      "text/plain": [
       "0"
      ]
     },
     "execution_count": 5,
     "metadata": {},
     "output_type": "execute_result"
    }
   ],
   "source": [
    "100%5"
   ]
  },
  {
   "cell_type": "code",
   "execution_count": 6,
   "id": "90920371",
   "metadata": {},
   "outputs": [
    {
     "data": {
      "text/plain": [
       "25"
      ]
     },
     "execution_count": 6,
     "metadata": {},
     "output_type": "execute_result"
    }
   ],
   "source": [
    "5**2"
   ]
  },
  {
   "cell_type": "markdown",
   "id": "76cd3dce",
   "metadata": {},
   "source": [
    "### Word Problem 1 : A grocery store sells a bag of ice for Rs1.25 and makes 20% of profit. If it sells 500 bags of ice, How much total profit does it make?"
   ]
  },
  {
   "cell_type": "code",
   "execution_count": 11,
   "id": "46bac32d",
   "metadata": {},
   "outputs": [
    {
     "name": "stdout",
     "output_type": "stream",
     "text": [
      "Total profite is :  125.0\n"
     ]
    }
   ],
   "source": [
    "Bag_price = 1.25\n",
    "Profit_perc = 20/100\n",
    "Total_Profit = (Bag_price * Profit_perc) * 500\n",
    "print(\"Total profite is : \" ,Total_Profit)"
   ]
  },
  {
   "cell_type": "markdown",
   "id": "22a6b76e",
   "metadata": {},
   "source": [
    "## Comments :"
   ]
  },
  {
   "cell_type": "code",
   "execution_count": 13,
   "id": "673ac1bf",
   "metadata": {},
   "outputs": [
    {
     "data": {
      "text/plain": [
       "' Multiline comments \\nrrr\\nrrr\\n'"
      ]
     },
     "execution_count": 13,
     "metadata": {},
     "output_type": "execute_result"
    }
   ],
   "source": [
    "# Single line comment\n",
    "\"\"\" Multiline comments \n",
    "rrr\n",
    "rrr\n",
    "\"\"\""
   ]
  },
  {
   "cell_type": "markdown",
   "id": "851fe625",
   "metadata": {},
   "source": [
    "### Save and upload notebook : eg on Github"
   ]
  },
  {
   "cell_type": "raw",
   "id": "16ab2b53",
   "metadata": {},
   "source": [
    "git init\n",
    "git add README.md\n",
    "git add python Fundamentals 1.ipynb"
   ]
  },
  {
   "cell_type": "code",
   "execution_count": null,
   "id": "711e9f4d",
   "metadata": {},
   "outputs": [],
   "source": []
  }
 ],
 "metadata": {
  "kernelspec": {
   "display_name": "Python 3 (ipykernel)",
   "language": "python",
   "name": "python3"
  },
  "language_info": {
   "codemirror_mode": {
    "name": "ipython",
    "version": 3
   },
   "file_extension": ".py",
   "mimetype": "text/x-python",
   "name": "python",
   "nbconvert_exporter": "python",
   "pygments_lexer": "ipython3",
   "version": "3.9.12"
  }
 },
 "nbformat": 4,
 "nbformat_minor": 5
}
